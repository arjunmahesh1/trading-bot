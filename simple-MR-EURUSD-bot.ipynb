{
 "cells": [
  {
   "cell_type": "code",
   "execution_count": 6,
   "metadata": {},
   "outputs": [
    {
     "name": "stdout",
     "output_type": "stream",
     "text": [
      "[*********************100%%**********************]  1 of 1 completed\n"
     ]
    }
   ],
   "source": [
    "import pandas as pd\n",
    "import numpy as np\n",
    "import yfinance as yf\n",
    "from apscheduler.schedulers.blocking import BlockingScheduler\n",
    "from oandapyV20 import API\n",
    "import oandapyV20.endpoints.orders as orders\n",
    "from oandapyV20.contrib.requests import MarketOrderRequest\n",
    "from oanda_candles import Pair, Gran, CandleCollector, CandleClient\n",
    "from oandapyV20.contrib.requests import TakeProfitDetails, StopLossDetails\n",
    "from config import access_token, accountID\n",
    "\n",
    "data = yf.download('EURUSD=X', start='2000-01-01')\n",
    "data = data[['Close']]\n",
    "data = data.dropna()\n",
    "\n",
    "half_life = 25248  # From mean-reversion-and-stationarity.ipynb"
   ]
  },
  {
   "cell_type": "code",
   "execution_count": 7,
   "metadata": {},
   "outputs": [],
   "source": [
    "data['MovingAvg'] = data['Close'].rolling(window=half_life).mean()\n",
    "data['MovingStd'] = data['Close'].rolling(window=half_life).std()\n",
    "data['Z'] = (data['Close'] - data['MovingAvg']) / data['MovingStd']\n",
    "data['Position'] = -data['Z']\n",
    "data['PnL'] = data['Position'].shift(1) * (data['Close'].diff())\n",
    "data['Cumulative PnL'] = data['PnL'].cumsum()"
   ]
  },
  {
   "cell_type": "code",
   "execution_count": 8,
   "metadata": {},
   "outputs": [],
   "source": [
    "def get_candles(n):\n",
    "    client = CandleClient(access_token, real=False)\n",
    "    collector = client.get_collector(Pair.EUR_USD, Gran.M15)\n",
    "    candles = collector.grab(n)\n",
    "    return candles"
   ]
  },
  {
   "cell_type": "code",
   "execution_count": 9,
   "metadata": {},
   "outputs": [],
   "source": [
    "def trading_job():\n",
    "    # Fetching latest price data\n",
    "    candles = get_candles(half_life) \n",
    "    dfstream = pd.DataFrame(columns=['Open', 'Close', 'High', \"Low\"])\n",
    "\n",
    "    # Parsing candle data for trading signals\n",
    "    for i, candle in enumerate(candles):\n",
    "        dfstream.loc[i] = [\n",
    "            float(candle.bid.o.value),  \n",
    "            float(candle.bid.c.value),\n",
    "            float(candle.bid.h.value),\n",
    "            float(candle.bid.l.value)\n",
    "        ]\n",
    "\n",
    "    # Calculate the rolling mean and standard deviation for the z-score\n",
    "    dfstream['MovingAvg'] = dfstream['Close'].rolling(window=672).mean()  \n",
    "    dfstream['MovingStd'] = dfstream['Close'].rolling(window=672).std()\n",
    "    dfstream['Z'] = (dfstream['Close'] - dfstream['MovingAvg']) / dfstream['MovingStd']\n",
    "\n",
    "    # Dropping the initial rows where the rolling window is not full\n",
    "    dfstream.dropna(inplace=True)\n",
    "\n",
    "    # Generate signals based on the z-score\n",
    "    dfstream['Signal'] = 0  # Initialize all signals to 0\n",
    "    dfstream.loc[dfstream['Z'] > 1, 'Signal'] = 1   # Sell signal\n",
    "    dfstream.loc[dfstream['Z'] < -1, 'Signal'] = 2  # Buy signal\n",
    "\n",
    "    last_signal = dfstream['Signal'].iloc[-1]\n",
    "\n",
    "    client = API(access_token)\n",
    "\n",
    "    SLTPRatio = 2\n",
    "    previous_candleR = abs(dfstream['Open'].iloc[-2] - dfstream['Close'].iloc[-2])\n",
    "\n",
    "    SLBuy = float(str(candle.bid.o))-previous_candleR\n",
    "    SLSell = float(str(candle.bid.o))+previous_candleR\n",
    "\n",
    "    TPBuy = float(str(candle.bid.o))+previous_candleR*SLTPRatio\n",
    "    TPSell = float(str(candle.bid.o))-previous_candleR*SLTPRatio\n",
    "\n",
    "    print(dfstream.iloc[:-1, :])\n",
    "    print(TPBuy, \" \", SLBuy, \" \", TPSell, \" \", SLSell)\n",
    "\n",
    "    # Sell\n",
    "    if last_signal == 1:\n",
    "        mo = MarketOrderRequest(instrument=\"EUR_USD\", units=-10000, takeProfitOnFill=TakeProfitDetails(price=TPSell).data, stopLossOnFill=StopLossDetails(price=SLSell).data)\n",
    "        r = orders.OrderCreate(accountID, data=mo.data)\n",
    "        rv = client.request(r)\n",
    "        print(rv)\n",
    "\n",
    "    # Buy\n",
    "    elif last_signal == 2:\n",
    "        mo = MarketOrderRequest(instrument=\"EUR_USD\", units=10000, takeProfitOnFill=TakeProfitDetails(price=TPBuy).data, stopLossOnFill=StopLossDetails(price=SLBuy).data)\n",
    "        r = orders.OrderCreate(accountID, data=mo.data)\n",
    "        rv = client.request(r)\n",
    "        print(rv)"
   ]
  },
  {
   "cell_type": "code",
   "execution_count": 10,
   "metadata": {},
   "outputs": [
    {
     "name": "stdout",
     "output_type": "stream",
     "text": [
      "          Open    Close     High      Low  MovingAvg  MovingStd         Z  \\\n",
      "671    1.07356  1.07348  1.07362  1.07341   1.072709   0.003089  0.249651   \n",
      "672    1.07357  1.07327  1.07361  1.07317   1.072701   0.003081  0.184609   \n",
      "673    1.07347  1.07347  1.07357  1.07328   1.072693   0.003072  0.252806   \n",
      "674    1.07347  1.07336  1.07347  1.07318   1.072685   0.003064  0.220163   \n",
      "675    1.07338  1.07333  1.07348  1.07330   1.072677   0.003055  0.213629   \n",
      "...        ...      ...      ...      ...        ...        ...       ...   \n",
      "25242  1.07843  1.07847  1.07848  1.07833   1.078419   0.004039  0.012741   \n",
      "25243  1.07848  1.07858  1.07874  1.07847   1.078415   0.004038  0.040759   \n",
      "25244  1.07857  1.07869  1.07870  1.07852   1.078413   0.004037  0.068699   \n",
      "25245  1.07870  1.07873  1.07878  1.07864   1.078409   0.004036  0.079519   \n",
      "25246  1.07874  1.07853  1.07874  1.07848   1.078405   0.004034  0.031011   \n",
      "\n",
      "       Signal  \n",
      "671         0  \n",
      "672         0  \n",
      "673         0  \n",
      "674         0  \n",
      "675         0  \n",
      "...       ...  \n",
      "25242       0  \n",
      "25243       0  \n",
      "25244       0  \n",
      "25245       0  \n",
      "25246       0  \n",
      "\n",
      "[24576 rows x 8 columns]\n",
      "1.07895   1.07832   1.07811   1.07874\n"
     ]
    }
   ],
   "source": [
    "# MANUAL\n",
    "trading_job()\n",
    "\n",
    "# SCHEDULED\n",
    "#scheduler = BlockingScheduler()\n",
    "#scheduler.add_job(trading_job, 'cron', day_of_week='mon-sun', hour='00-23', minute='0,1,2,3,4,5,6,7,8,9,10,11,12,13,14,15,16,17,18,19,20,21,22,23,24,25,26,27,28,29,30,31,32,33,34,35,36,37,38,39,40,41,42,43,44,45,46,47,48,49,50,51,52,53,54,55,56,57,58,59', second='0,1,2,3,4,5,6,7,8,9,10,11,12,13,14,15,16,17,18,19,20,21,22,23,24,25,26,27,28,29,30,31,32,33,34,35,36,37,38,39,40,41,42,43,44,45,46,47,48,49,50,51,52,53,54,55,56,57,58,59', start_date='2023-09-26 01:00:00')\n",
    "#scheduler.start()"
   ]
  }
 ],
 "metadata": {
  "kernelspec": {
   "display_name": "Python 3",
   "language": "python",
   "name": "python3"
  },
  "language_info": {
   "codemirror_mode": {
    "name": "ipython",
    "version": 3
   },
   "file_extension": ".py",
   "mimetype": "text/x-python",
   "name": "python",
   "nbconvert_exporter": "python",
   "pygments_lexer": "ipython3",
   "version": "3.10.8"
  }
 },
 "nbformat": 4,
 "nbformat_minor": 2
}
